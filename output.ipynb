{
 "cells": [
  {
   "metadata": {},
   "cell_type": "markdown",
   "source": "# Вывод основной программы ",
   "id": "9addd9dd7b6328d1"
  },
  {
   "metadata": {},
   "cell_type": "code",
   "source": "%run decoder.py -m input.json input.bin",
   "id": "6cc13ddefcf1b4ae",
   "outputs": [],
   "execution_count": null
  },
  {
   "metadata": {},
   "cell_type": "markdown",
   "source": "# Вывод unittest'a ",
   "id": "47d21f329b8f17e8"
  },
  {
   "metadata": {
    "ExecuteTime": {
     "end_time": "2024-05-21T13:44:59.470879Z",
     "start_time": "2024-05-21T13:44:59.440407Z"
    }
   },
   "cell_type": "code",
   "source": [
    "import unittest\n",
    "import tests.test_decoder\n",
    "\n",
    "loader = unittest.TestLoader()\n",
    "suite = loader.loadTestsFromModule(tests.test_decoder)\n",
    "\n",
    "runner = unittest.TextTestRunner()\n",
    "runner = runner.run(suite)"
   ],
   "id": "2299740a040af3b2",
   "outputs": [
    {
     "name": "stderr",
     "output_type": "stream",
     "text": [
      "......\n",
      "----------------------------------------------------------------------\n",
      "Ran 6 tests in 0.016s\n",
      "\n",
      "OK\n"
     ]
    }
   ],
   "execution_count": 35
  },
  {
   "metadata": {},
   "cell_type": "markdown",
   "source": "# Вывод pytest'а",
   "id": "68b17e5953230052"
  },
  {
   "metadata": {
    "ExecuteTime": {
     "end_time": "2024-05-21T13:45:01.913893Z",
     "start_time": "2024-05-21T13:45:01.648356Z"
    }
   },
   "cell_type": "code",
   "source": [
    "import pytest\n",
    "from pytest_shutil import workspace\n",
    "\n",
    "# Создание рабочего пространства\n",
    "@pytest.fixture(scope=\"session\")\n",
    "def workspace(tmp_path_factory):\n",
    "    return workspace.Workspace(tmp_path_factory)\n",
    "\n",
    "def run_tests():\n",
    "    # Путь к файлу с тестами\n",
    "    test_file = 'tests/pytest_decoder.py'\n",
    "    \n",
    "    pytest.main(['-v', '-p', 'no:warnings', test_file])\n",
    "\n",
    "run_tests()"
   ],
   "id": "7a23b821b492b52c",
   "outputs": [
    {
     "name": "stdout",
     "output_type": "stream",
     "text": [
      "\u001B[1m============================= test session starts =============================\u001B[0m\n",
      "platform win32 -- Python 3.9.13, pytest-8.2.1, pluggy-1.5.0 -- C:\\Users\\User\\PycharmProjects\\YadroTest\\venv\\Scripts\\python.exe\n",
      "cachedir: .pytest_cache\n",
      "rootdir: C:\\Users\\User\\PycharmProjects\\YadroTest\n",
      "plugins: anyio-4.3.0, shutil-1.7.0\n",
      "\u001B[1mcollecting ... \u001B[0mcollected 5 items\n",
      "\n",
      "tests/pytest_decoder.py::test_read_json_format_strings \u001B[32mPASSED\u001B[0m\u001B[32m            [ 20%]\u001B[0m\n",
      "tests/pytest_decoder.py::test_crc8_check \u001B[32mPASSED\u001B[0m\u001B[32m                          [ 40%]\u001B[0m\n",
      "tests/pytest_decoder.py::test_parse_arguments \u001B[32mPASSED\u001B[0m\u001B[32m                     [ 60%]\u001B[0m\n",
      "tests/pytest_decoder.py::test_parse_binary_log_file \u001B[32mPASSED\u001B[0m\u001B[32m               [ 80%]\u001B[0m\n",
      "tests/pytest_decoder.py::test_main \u001B[32mPASSED\u001B[0m\u001B[32m                                [100%]\u001B[0m\n",
      "\n",
      "\u001B[32m============================== \u001B[32m\u001B[1m5 passed\u001B[0m\u001B[32m in 0.11s\u001B[0m\u001B[32m ==============================\u001B[0m\n"
     ]
    }
   ],
   "execution_count": 36
  }
 ],
 "metadata": {
  "kernelspec": {
   "display_name": "Python 3",
   "language": "python",
   "name": "python3"
  },
  "language_info": {
   "codemirror_mode": {
    "name": "ipython",
    "version": 2
   },
   "file_extension": ".py",
   "mimetype": "text/x-python",
   "name": "python",
   "nbconvert_exporter": "python",
   "pygments_lexer": "ipython2",
   "version": "2.7.6"
  }
 },
 "nbformat": 4,
 "nbformat_minor": 5
}
