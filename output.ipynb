{
 "cells": [
  {
   "metadata": {},
   "cell_type": "markdown",
   "source": "# Вывод основной программы ",
   "id": "9addd9dd7b6328d1"
  },
  {
   "metadata": {
    "ExecuteTime": {
     "end_time": "2024-05-21T13:44:56.036450Z",
     "start_time": "2024-05-21T13:44:56.015030Z"
    }
   },
   "cell_type": "code",
   "source": "%run decoder.py -m input.json input.bin",
   "id": "6cc13ddefcf1b4ae",
   "outputs": [
    {
     "name": "stdout",
     "output_type": "stream",
     "text": [
      "1715843414.293763 <inf> %sinitialized initialized!\n",
      "1715843414.381516 <inf> %sFLASHInit:  FLASH_Init\n",
      "1715843427.289378            ...\n"
     ]
    },
    {
     "name": "stderr",
     "output_type": "stream",
     "text": [
      "Binary file: input.bin\n",
      "JSON file: input.json\n",
      "Processing page 0\n",
      "SyncFrame - CRC8: 21, Expected CRC8: 21, Size: 10, StringAddr: 0, Timestamp: 1715843414\n",
      "Message - CRC8: 86, Expected CRC8: 86, Size: 18, StringAddr: 20185088, TimeOffsetUs: 293763\n",
      "Unknown format specifier sinitialized in format string '%s %s initialized!'\n",
      "Message - CRC8: 79, Expected CRC8: 79, Size: 18, StringAddr: 20185100, TimeOffsetUs: 381516\n",
      "Unknown format specifier sFLASHInit in format string '%s %s:  FLASH_Init'\n",
      "Message - CRC8: 139, Expected CRC8: 139, Size: 22, StringAddr: 20185108, TimeOffsetUs: 392421\n",
      "Unknown format specifier sHeaderloadedPartitionstableoffsetx in format string '%s %s:  Header loaded. Partitions table offset: 0x%04X'\n",
      "SyncFrame - CRC8: 1, Expected CRC8: 162, Size: 16, StringAddr: 78848, Timestamp: 3170893872\n",
      "Processing page 1\n",
      "SyncFrame - CRC8: 3, Expected CRC8: 3, Size: 10, StringAddr: 0, Timestamp: 1715843415\n",
      "Message - CRC8: 158, Expected CRC8: 158, Size: 38, StringAddr: 20185200, TimeOffsetUs: 262050\n",
      "Unknown format specifier sManifestloadedloadaddr in format string '%s %s:  Manifest loaded. [load_addr: %08X_%08Xh; start_addr: %08X_%08Xh; data_sz: %u]'\n",
      "Unknown format specifier Xhstartaddr in format string '%s %s:  Manifest loaded. [load_addr: %08X_%08Xh; start_addr: %08X_%08Xh; data_sz: %u]'\n",
      "Unknown format specifier Xhdatasz in format string '%s %s:  Manifest loaded. [load_addr: %08X_%08Xh; start_addr: %08X_%08Xh; data_sz: %u]'\n",
      "SyncFrame - CRC8: 1, Expected CRC8: 163, Size: 16, StringAddr: 78848, Timestamp: 0\n",
      "Processing page 2\n",
      "SyncFrame - CRC8: 209, Expected CRC8: 209, Size: 10, StringAddr: 0, Timestamp: 1715843416\n",
      "Message - CRC8: 221, Expected CRC8: 221, Size: 34, StringAddr: 20185272, TimeOffsetUs: 18995\n",
      "Unknown format specifier sInitmxregion in format string '[%08u] %s %s: Init: mx-region#%d: page=%xh; refs=%d'\n",
      "Unknown format specifier dpage in format string '[%08u] %s %s: Init: mx-region#%d: page=%xh; refs=%d'\n",
      "Unknown format specifier xhrefs in format string '[%08u] %s %s: Init: mx-region#%d: page=%xh; refs=%d'\n",
      "SyncFrame - CRC8: 0, Expected CRC8: 147, Size: 172, StringAddr: 2952868864, Timestamp: 33633280\n",
      "Processing page 3\n",
      "SyncFrame - CRC8: 209, Expected CRC8: 209, Size: 10, StringAddr: 0, Timestamp: 1715843416\n",
      "Message - CRC8: 161, Expected CRC8: 161, Size: 38, StringAddr: 20185332, TimeOffsetUs: 816665\n",
      "Unknown format specifier sManifestloadedloadaddr in format string '[%08u] %s %s: Manifest loaded. [load_addr: %08X_%08Xh; start_addr: %08X_%08Xh; data_sz: 1024]'\n",
      "Unknown format specifier Xhstartaddr in format string '[%08u] %s %s: Manifest loaded. [load_addr: %08X_%08Xh; start_addr: %08X_%08Xh; data_sz: 1024]'\n",
      "Unknown format specifier Xhdatasz in format string '[%08u] %s %s: Manifest loaded. [load_addr: %08X_%08Xh; start_addr: %08X_%08Xh; data_sz: 1024]'\n",
      "SyncFrame - CRC8: 0, Expected CRC8: 39, Size: 4, StringAddr: 268514304, Timestamp: 78848\n",
      "Processing page 4\n",
      "SyncFrame - CRC8: 199, Expected CRC8: 199, Size: 10, StringAddr: 0, Timestamp: 1715843417\n",
      "Message - CRC8: 4, Expected CRC8: 4, Size: 26, StringAddr: 20185384, TimeOffsetUs: 487712\n",
      "Unknown format specifier sUnmapRangeunmappingofaddressrangerequestedhandle in format string '[%08u] %s %s: UnmapRange: unmapping of address range requested (handle=%d)..'\n",
      "SyncFrame - CRC8: 0, Expected CRC8: 59, Size: 52, StringAddr: 1, Timestamp: 740174592\n",
      "Processing page 5\n",
      "SyncFrame - CRC8: 253, Expected CRC8: 253, Size: 10, StringAddr: 0, Timestamp: 1715843418\n",
      "Message - CRC8: 62, Expected CRC8: 62, Size: 30, StringAddr: 20185500, TimeOffsetUs: 427745\n",
      "Unknown format specifier Xx in format string '%s:  %s[%u] @ [%08X] = 0x%08X'\n",
      "SyncFrame - CRC8: 0, Expected CRC8: 0, Size: 0, StringAddr: 8441856, Timestamp: 33574420\n",
      "Processing page 6\n",
      "SyncFrame - CRC8: 235, Expected CRC8: 235, Size: 10, StringAddr: 0, Timestamp: 1715843419\n",
      "Message - CRC8: 190, Expected CRC8: 190, Size: 30, StringAddr: 20185500, TimeOffsetUs: 216448\n",
      "Unknown format specifier Xx in format string '%s:  %s[%u] @ [%08X] = 0x%08X'\n",
      "SyncFrame - CRC8: 0, Expected CRC8: 0, Size: 0, StringAddr: 8466432, Timestamp: 33554452\n",
      "Processing page 7\n",
      "SyncFrame - CRC8: 137, Expected CRC8: 137, Size: 10, StringAddr: 0, Timestamp: 1715843420\n",
      "Message - CRC8: 58, Expected CRC8: 58, Size: 30, StringAddr: 20185500, TimeOffsetUs: 217648\n",
      "Unknown format specifier Xx in format string '%s:  %s[%u] @ [%08X] = 0x%08X'\n",
      "SyncFrame - CRC8: 0, Expected CRC8: 0, Size: 0, StringAddr: 8524800, Timestamp: 151587092\n",
      "Processing page 8\n",
      "SyncFrame - CRC8: 159, Expected CRC8: 159, Size: 10, StringAddr: 0, Timestamp: 1715843421\n",
      "Message - CRC8: 197, Expected CRC8: 197, Size: 26, StringAddr: 20185492, TimeOffsetUs: 175946\n",
      "Unknown format specifier Xx in format string '%s:  %s @ [%08X] = 0x%08X'\n",
      "SyncFrame - CRC8: 155, Expected CRC8: 0, Size: 0, StringAddr: 276, Timestamp: 2484771584\n",
      "Processing page 9\n",
      "SyncFrame - CRC8: 165, Expected CRC8: 165, Size: 10, StringAddr: 0, Timestamp: 1715843422\n",
      "Message - CRC8: 82, Expected CRC8: 82, Size: 38, StringAddr: 20185336, TimeOffsetUs: 119609\n",
      "Unknown format specifier sMappingofaddressrangerequested in format string '[%08u] %s %s: Mapping of address range requested [%02X%08Xh; %02X%08Xh)..'\n",
      "Unknown format specifier Xh in format string '[%08u] %s %s: Mapping of address range requested [%02X%08Xh; %02X%08Xh)..'\n",
      "Unknown format specifier Xh in format string '[%08u] %s %s: Mapping of address range requested [%02X%08Xh; %02X%08Xh)..'\n",
      "SyncFrame - CRC8: 0, Expected CRC8: 39, Size: 4, StringAddr: 2952868864, Timestamp: 335623168\n",
      "Processing page 10\n",
      "SyncFrame - CRC8: 165, Expected CRC8: 165, Size: 10, StringAddr: 0, Timestamp: 1715843422\n",
      "Message - CRC8: 35, Expected CRC8: 35, Size: 34, StringAddr: 20185368, TimeOffsetUs: 708358\n",
      "Unknown format specifier sGetReducedAddraddressconversion in format string '[%08u] %s %s: GetReducedAddr: address conversion: %02X%08Xh --> %08Xh'\n",
      "Unknown format specifier Xh in format string '[%08u] %s %s: GetReducedAddr: address conversion: %02X%08Xh --> %08Xh'\n",
      "Unknown format specifier Xh in format string '[%08u] %s %s: GetReducedAddr: address conversion: %02X%08Xh --> %08Xh'\n",
      "SyncFrame - CRC8: 0, Expected CRC8: 47, Size: 52, StringAddr: 1025, Timestamp: 0\n",
      "Processing page 11\n",
      "SyncFrame - CRC8: 179, Expected CRC8: 179, Size: 10, StringAddr: 0, Timestamp: 1715843423\n",
      "Message - CRC8: 64, Expected CRC8: 64, Size: 34, StringAddr: 20185368, TimeOffsetUs: 374868\n",
      "Unknown format specifier sGetReducedAddraddressconversion in format string '[%08u] %s %s: GetReducedAddr: address conversion: %02X%08Xh --> %08Xh'\n",
      "Unknown format specifier Xh in format string '[%08u] %s %s: GetReducedAddr: address conversion: %02X%08Xh --> %08Xh'\n",
      "Unknown format specifier Xh in format string '[%08u] %s %s: GetReducedAddr: address conversion: %02X%08Xh --> %08Xh'\n",
      "SyncFrame - CRC8: 0, Expected CRC8: 205, Size: 52, StringAddr: 1025, Timestamp: 0\n",
      "Processing page 12\n",
      "SyncFrame - CRC8: 179, Expected CRC8: 179, Size: 10, StringAddr: 0, Timestamp: 1715843423\n",
      "Message - CRC8: 153, Expected CRC8: 153, Size: 34, StringAddr: 20185368, TimeOffsetUs: 986007\n",
      "Unknown format specifier sGetReducedAddraddressconversion in format string '[%08u] %s %s: GetReducedAddr: address conversion: %02X%08Xh --> %08Xh'\n",
      "Unknown format specifier Xh in format string '[%08u] %s %s: GetReducedAddr: address conversion: %02X%08Xh --> %08Xh'\n",
      "Unknown format specifier Xh in format string '[%08u] %s %s: GetReducedAddr: address conversion: %02X%08Xh --> %08Xh'\n",
      "SyncFrame - CRC8: 0, Expected CRC8: 17, Size: 52, StringAddr: 1025, Timestamp: 0\n",
      "Processing page 13\n",
      "SyncFrame - CRC8: 200, Expected CRC8: 200, Size: 10, StringAddr: 0, Timestamp: 1715843424\n",
      "Message - CRC8: 83, Expected CRC8: 83, Size: 34, StringAddr: 20185368, TimeOffsetUs: 645833\n",
      "Unknown format specifier sGetReducedAddraddressconversion in format string '[%08u] %s %s: GetReducedAddr: address conversion: %02X%08Xh --> %08Xh'\n",
      "Unknown format specifier Xh in format string '[%08u] %s %s: GetReducedAddr: address conversion: %02X%08Xh --> %08Xh'\n",
      "Unknown format specifier Xh in format string '[%08u] %s %s: GetReducedAddr: address conversion: %02X%08Xh --> %08Xh'\n",
      "SyncFrame - CRC8: 0, Expected CRC8: 83, Size: 52, StringAddr: 1025, Timestamp: 0\n",
      "Processing page 14\n",
      "SyncFrame - CRC8: 222, Expected CRC8: 222, Size: 10, StringAddr: 0, Timestamp: 1715843425\n",
      "Message - CRC8: 109, Expected CRC8: 109, Size: 22, StringAddr: 20185648, TimeOffsetUs: 228197\n",
      "Unknown format specifier sLPDDRMemteststart in format string '[%08u] %s %s: LPDDR Memtest start'\n",
      "SyncFrame - CRC8: 0, Expected CRC8: 190, Size: 52, StringAddr: 873914113, Timestamp: 3405853698\n",
      "Processing page 15\n",
      "SyncFrame - CRC8: 228, Expected CRC8: 228, Size: 10, StringAddr: 0, Timestamp: 1715843426\n",
      "Message - CRC8: 250, Expected CRC8: 250, Size: 42, StringAddr: 20185672, TimeOffsetUs: 197866\n",
      "SyncFrame - CRC8: 120, Expected CRC8: 190, Size: 108, StringAddr: 3494245186, Timestamp: 3384731259\n",
      "Processing page 16\n",
      "SyncFrame - CRC8: 242, Expected CRC8: 242, Size: 10, StringAddr: 0, Timestamp: 1715843427\n",
      "Message - CRC8: 142, Expected CRC8: 142, Size: 10, StringAddr: 20185676, TimeOffsetUs: 289378\n",
      "Message - CRC8: 23, Expected CRC8: 23, Size: 42, StringAddr: 20185680, TimeOffsetUs: 346709\n",
      "SyncFrame - CRC8: 162, Expected CRC8: 136, Size: 108, StringAddr: 784777294, Timestamp: 2079168402\n",
      "Processing page 17\n",
      "SyncFrame - CRC8: 144, Expected CRC8: 144, Size: 10, StringAddr: 0, Timestamp: 1715843428\n",
      "Message - CRC8: 169, Expected CRC8: 169, Size: 42, StringAddr: 20185680, TimeOffsetUs: 332600\n",
      "SyncFrame - CRC8: 230, Expected CRC8: 0, Size: 1, StringAddr: 1741893454, Timestamp: 152392337\n",
      "Processing page 18\n",
      "SyncFrame - CRC8: 134, Expected CRC8: 134, Size: 10, StringAddr: 0, Timestamp: 1715843429\n",
      "Message - CRC8: 186, Expected CRC8: 186, Size: 14, StringAddr: 20185684, TimeOffsetUs: 335815\n",
      "SyncFrame - CRC8: 1, Expected CRC8: 102, Size: 170, StringAddr: 3925870202, Timestamp: 872569874\n",
      "Processing page 19\n",
      "SyncFrame - CRC8: 188, Expected CRC8: 188, Size: 10, StringAddr: 0, Timestamp: 1715843430\n",
      "Message - CRC8: 135, Expected CRC8: 135, Size: 14, StringAddr: 20185668, TimeOffsetUs: 591146\n",
      "SyncFrame - CRC8: 1, Expected CRC8: 228, Size: 172, StringAddr: 4026534386, Timestamp: 4199462921\n"
     ]
    }
   ],
   "execution_count": 34
  },
  {
   "metadata": {},
   "cell_type": "markdown",
   "source": "# Вывод unittest'a ",
   "id": "47d21f329b8f17e8"
  },
  {
   "metadata": {
    "ExecuteTime": {
     "end_time": "2024-05-21T13:44:59.470879Z",
     "start_time": "2024-05-21T13:44:59.440407Z"
    }
   },
   "cell_type": "code",
   "source": [
    "import unittest\n",
    "import tests.test_decoder\n",
    "\n",
    "loader = unittest.TestLoader()\n",
    "suite = loader.loadTestsFromModule(tests.test_decoder)\n",
    "\n",
    "runner = unittest.TextTestRunner()\n",
    "runner = runner.run(suite)"
   ],
   "id": "2299740a040af3b2",
   "outputs": [
    {
     "name": "stderr",
     "output_type": "stream",
     "text": [
      "......\n",
      "----------------------------------------------------------------------\n",
      "Ran 6 tests in 0.016s\n",
      "\n",
      "OK\n"
     ]
    }
   ],
   "execution_count": 35
  },
  {
   "metadata": {},
   "cell_type": "markdown",
   "source": "# Вывод pytest'а",
   "id": "68b17e5953230052"
  },
  {
   "metadata": {
    "ExecuteTime": {
     "end_time": "2024-05-21T13:45:01.913893Z",
     "start_time": "2024-05-21T13:45:01.648356Z"
    }
   },
   "cell_type": "code",
   "source": [
    "import pytest\n",
    "from pytest_shutil import workspace\n",
    "\n",
    "# Создание рабочего пространства\n",
    "@pytest.fixture(scope=\"session\")\n",
    "def workspace(tmp_path_factory):\n",
    "    return workspace.Workspace(tmp_path_factory)\n",
    "\n",
    "def run_tests():\n",
    "    # Путь к файлу с тестами\n",
    "    test_file = 'tests/pytest_decoder.py'\n",
    "    \n",
    "    pytest.main(['-v', '-p', 'no:warnings', test_file])\n",
    "\n",
    "run_tests()"
   ],
   "id": "7a23b821b492b52c",
   "outputs": [
    {
     "name": "stdout",
     "output_type": "stream",
     "text": [
      "\u001B[1m============================= test session starts =============================\u001B[0m\n",
      "platform win32 -- Python 3.9.13, pytest-8.2.1, pluggy-1.5.0 -- C:\\Users\\User\\PycharmProjects\\YadroTest\\venv\\Scripts\\python.exe\n",
      "cachedir: .pytest_cache\n",
      "rootdir: C:\\Users\\User\\PycharmProjects\\YadroTest\n",
      "plugins: anyio-4.3.0, shutil-1.7.0\n",
      "\u001B[1mcollecting ... \u001B[0mcollected 5 items\n",
      "\n",
      "tests/pytest_decoder.py::test_read_json_format_strings \u001B[32mPASSED\u001B[0m\u001B[32m            [ 20%]\u001B[0m\n",
      "tests/pytest_decoder.py::test_crc8_check \u001B[32mPASSED\u001B[0m\u001B[32m                          [ 40%]\u001B[0m\n",
      "tests/pytest_decoder.py::test_parse_arguments \u001B[32mPASSED\u001B[0m\u001B[32m                     [ 60%]\u001B[0m\n",
      "tests/pytest_decoder.py::test_parse_binary_log_file \u001B[32mPASSED\u001B[0m\u001B[32m               [ 80%]\u001B[0m\n",
      "tests/pytest_decoder.py::test_main \u001B[32mPASSED\u001B[0m\u001B[32m                                [100%]\u001B[0m\n",
      "\n",
      "\u001B[32m============================== \u001B[32m\u001B[1m5 passed\u001B[0m\u001B[32m in 0.11s\u001B[0m\u001B[32m ==============================\u001B[0m\n"
     ]
    }
   ],
   "execution_count": 36
  }
 ],
 "metadata": {
  "kernelspec": {
   "display_name": "Python 3",
   "language": "python",
   "name": "python3"
  },
  "language_info": {
   "codemirror_mode": {
    "name": "ipython",
    "version": 2
   },
   "file_extension": ".py",
   "mimetype": "text/x-python",
   "name": "python",
   "nbconvert_exporter": "python",
   "pygments_lexer": "ipython2",
   "version": "2.7.6"
  }
 },
 "nbformat": 4,
 "nbformat_minor": 5
}
